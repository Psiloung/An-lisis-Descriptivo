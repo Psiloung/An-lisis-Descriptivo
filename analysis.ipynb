{
 "cells": [
  {
   "cell_type": "markdown",
   "metadata": {},
   "source": [
    "# Análisis Descriptivo"
   ]
  },
  {
   "cell_type": "markdown",
   "metadata": {},
   "source": [
    "## Tipos de variables para los dos set de datos."
   ]
  },
  {
   "cell_type": "markdown",
   "metadata": {},
   "source": [
    "### 1. ocupaciones.csv\n",
    "\n",
    "#### 1.1. age:\n",
    "Tipo de variable: Cuantitativo discreto.\n",
    "\n",
    "La age o edad es un valor numérico, pero en este caso, se trata de una variable discreta ya que se presenta como un número entre 23, 53, 23, etc. La edad se cuenta en unidades específicas y no puede tener valores fraccionarios.\n",
    "\n",
    "#### 1.2. gender:\n",
    "Tipo de variable: Categórica nominal.\n",
    "\n",
    "El gender o género es una variable categórica ya que representa categorías o grupos sin un orden inherente. En este caso, las categorías son \"M\" y \"F\".\n",
    "\n",
    "#### 1.3. occupation:\n",
    "Tipo de varible: Categórica nominal.\n",
    "\n",
    "La occupation o ocupación es otra variable categórica nominal. Las ocupaciones representan categorías sin un orden específico. No hay una jerarquía intrínseca entre estas categorías.\n",
    "\n",
    "###### Observación: user_id no se considerará."
   ]
  },
  {
   "cell_type": "markdown",
   "metadata": {},
   "source": [
    "### 2. sismos.csv\n",
    "#### 2.1. Fecha:\n",
    "Tipo de variable: Ordinal.\n",
    "\n",
    "La fecha es una variable temporal que indica el momento en que ocurrió el sismo. Aunque los datos están en formato de fecha, se considera ordinal porque hay un orden cronológico, pero las fechas no tienen una unidad uniforme entre ellas.\n",
    "\n",
    "#### 2.2. Hora:\n",
    "Tipo de variable: Cuantitativa discreta.\n",
    "\n",
    "La hora representa el momento del día en que ocurrió el sismo y se presenta como un número entero. Es cuantitavo discreto porque está medida en unidades discretas de tiempo.\n",
    "\n",
    "#### 2.3. latitude:\n",
    "Tipo de varible: Cuantitativa continua.\n",
    "\n",
    "La latitude o latitud es una variable numérica que representa la ubicación geográfica. Es cuantitativa continua porque pueden tomar un rango continuo de valores.\n",
    "\n",
    "#### 2.4. longitude:\n",
    "Tipo de varible: Cuantitativa continua.\n",
    "\n",
    "Es el mismo caso anterior, ya que representa prácticamente lo mismo.\n",
    "\n",
    "#### 2.5. depth:\n",
    "Tipo de varible: Cuantitativa continua.\n",
    "\n",
    "La depth o profundidad del sismo es una medida numérica y continua, ya que puede tomar un rango continuo de valores.\n",
    "\n",
    "#### 2.6. mag:\n",
    "Tipo de varible: Categórica nominal.\n",
    "\n",
    "La mag o magnitud es una variable categórica que indica el método utilizado para calcular la magnitud del sismo. Es nominal porque representa categorías sin un orden intrínseco.\n",
    "\n",
    "###### Observación: Solo se considerará la hora (Hora) y no los minutos y segundos (Hora exacta) y finalmente, no se considerará magType."
   ]
  }
 ],
 "metadata": {
  "kernelspec": {
   "display_name": "Python 3",
   "language": "python",
   "name": "python3"
  },
  "language_info": {
   "codemirror_mode": {
    "name": "ipython",
    "version": 3
   },
   "file_extension": ".py",
   "mimetype": "text/x-python",
   "name": "python",
   "nbconvert_exporter": "python",
   "pygments_lexer": "ipython3",
   "version": "3.9.6"
  }
 },
 "nbformat": 4,
 "nbformat_minor": 2
}
